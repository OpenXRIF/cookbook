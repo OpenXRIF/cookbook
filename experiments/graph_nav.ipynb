{
 "cells": [
  {
   "cell_type": "markdown",
   "metadata": {},
   "source": [
    "# Waypoint-based navigation with self-healing graphs\n",
    "Idea: Create a knowledge graph of waypoints as users interact with the agent. This way new waypoints can get created (temporarily or permanent) and looped tasks can remember states"
   ]
  },
  {
   "cell_type": "code",
   "execution_count": null,
   "metadata": {
    "vscode": {
     "languageId": "plaintext"
    }
   },
   "outputs": [],
   "source": []
  }
 ],
 "metadata": {
  "language_info": {
   "name": "python"
  }
 },
 "nbformat": 4,
 "nbformat_minor": 2
}
