{
 "cells": [
  {
   "cell_type": "code",
   "execution_count": 8,
   "metadata": {},
   "outputs": [
    {
     "data": {
      "text/plain": [
       "False"
      ]
     },
     "execution_count": 8,
     "metadata": {},
     "output_type": "execute_result"
    }
   ],
   "source": [
    "from langchain_huggingface import HuggingFaceEmbeddings\n",
    "from langchain_community.vectorstores import FAISS\n",
    "from langchain_community.docstore.in_memory import InMemoryDocstore\n",
    "from langchain_ollama import OllamaEmbeddings\n",
    "from langchain_core.documents import Document\n",
    "from langchain_ollama import OllamaLLM\n",
    "from langchain.prompts import PromptTemplate\n",
    "from langchain_core.output_parsers import StrOutputParser\n",
    "from langchain_google_genai import GoogleGenerativeAI\n",
    "from langchain_openai import ChatOpenAI\n",
    "from inspect import signature\n",
    "from yaml import safe_load\n",
    "import pandas as pd \n",
    "import tqdm\n",
    "import re\n",
    "import json\n",
    "from pathlib import Path\n",
    "import os\n",
    "import faiss\n",
    "import gc\n",
    "from typing import Tuple\n",
    "import dotenv\n",
    "import time\n",
    "OUTPUT_DIR = Path(\"test_results\")\n",
    "today = pd.Timestamp.now().strftime(\"%Y-%m-%d\")\n",
    "\n",
    "dotenv.load_dotenv()\n"
   ]
  },
  {
   "cell_type": "code",
   "execution_count": 9,
   "metadata": {},
   "outputs": [],
   "source": [
    "class XRIFGenerator:\n",
    "    def __init__(self, \n",
    "                 prompt_template: str,\n",
    "                 waypoints_csv: str,\n",
    "                 language_model_type = \"Ollama\",\n",
    "                 embed_model_type = \"Ollama\",\n",
    "                 language_model: str = \"deepseek-r1:1.5b\",\n",
    "                 embed_model: str = \"deepseek-r1:1.5b\",\n",
    "                 chat_kwargs: dict = {\"num_predict\": 500, \"temperature\": 0.2, \"top_p\": 0.2},\n",
    "                 fetch_all: bool = True):\n",
    "        self.waypoints_list = []\n",
    "        self.kwargs = chat_kwargs\n",
    "        self.prompt_template = prompt_template\n",
    "        self.waypoints_csv = waypoints_csv\n",
    "        self.language_model_type = language_model_type\n",
    "        self.x_coord = 0\n",
    "        self.y_coord = 0\n",
    "        print(f\"Loading model: {language_model}...\")\n",
    "        \n",
    "        if embed_model_type == \"Ollama\":\n",
    "            embed = OllamaEmbeddings(model = embed_model)\n",
    "        elif embed_model_type == \"HuggingFace\":\n",
    "            embed = HuggingFaceEmbeddings(model_name = embed_model)\n",
    "        else:\n",
    "            raise Exception(\"Invalid embed_model_type\")\n",
    "\n",
    "        if language_model_type == \"Ollama\":\n",
    "            self.llm = OllamaLLM(model=language_model, **self.filter_kwargs_for_OllamaLLM(self.kwargs))\n",
    "        elif language_model_type == \"google\":\n",
    "            if os.getenv(\"GOOGLE_API_KEY\"):\n",
    "                self.llm = GoogleGenerativeAI(model=language_model, **self.kwargs)\n",
    "            else:\n",
    "                raise Exception(\"GOOGLE_API_KEY not found in environment variables\")\n",
    "        elif language_model_type == \"OpenAI\":\n",
    "            try: \n",
    "                self.llm = ChatOpenAI(model=language_model, **self.filter_kwargs_for_OpenAI(self.kwargs))\n",
    "            except Exception as e:\n",
    "                print(f\"Error loading OpenAI model: {e}\")\n",
    "        else:\n",
    "            raise Exception(\"Invalid language_model_type\")\n",
    "\n",
    "        self.output_parser = StrOutputParser()\n",
    "        waypoints = pd.read_csv(self.waypoints_csv)\n",
    "        waypoint_cols = ['Location', 'X co-ordinate', 'Y co-ordinate', 'Floor', 'Section', 'Keywords']\n",
    "        given_waypoints_cols = list(waypoints.columns)\n",
    "        if given_waypoints_cols != waypoint_cols:\n",
    "            raise Exception(\"Columns do not match, please provide a new dataset\")\n",
    "        \n",
    "        num_rows = len(waypoints)\n",
    "        print(f\"Processing {num_rows} waypoints...\")\n",
    "        with tqdm.tqdm(total=num_rows) as pbar:\n",
    "            for index, row in waypoints.iterrows():\n",
    "                self.waypoints_list.append(Document(id = f\"Waypoint_{index}\", page_content=f\"A waypoint called {row['Location']} exists at X-Coordinate, {row['X co-ordinate']}, and Y-Coordinate, {row['Y co-ordinate']}, apart of Section, {row['Section']}. Words associated with the waypoint, {row['Location']} are {row['Keywords']}.\"))\n",
    "                pbar.update(1)\n",
    "        \n",
    "        index = faiss.IndexFlatL2(len(embed.embed_query(\"Hello World!\")))\n",
    "\n",
    "        self.vector_store = FAISS(\n",
    "            embedding_function=embed,\n",
    "            index=index,\n",
    "            docstore=InMemoryDocstore(),\n",
    "            index_to_docstore_id={}            \n",
    "        )\n",
    "        \n",
    "        print(\"Adding waypoints to vector store...\")\n",
    "        self.vector_store.add_documents(self.waypoints_list)\n",
    "        print(\"Creating retriever...\")\n",
    "        k = len(self.waypoints_list) if fetch_all else 5\n",
    "        \n",
    "        self.retriever = self.vector_store.as_retriever(\n",
    "            search_type = \"mmr\",\n",
    "            search_kwargs = {'k': k, 'fetch_k': len(self.waypoints_list)},\n",
    "        )\n",
    "\n",
    "        with open(self.prompt_template, 'r') as file:\n",
    "            prompt_dict = safe_load(file)\n",
    "            self.prompt = prompt_dict['prompt']\n",
    "            self.prompt_name = prompt_dict['prompt_name']\n",
    "        \n",
    "        print(\"Creating prompt template...\")\n",
    "        self.prompt_template = PromptTemplate(template=self.prompt, input_variables=[\"documents\", \"query\", \"starting_location\"])\n",
    "\n",
    "        print(\"Creating RAG chain...\")\n",
    "        self.rag_chain = self.prompt_template | self.llm | self.output_parser\n",
    "        \n",
    "    def filter_kwargs_for_OllamaLLM(self, kwargs: dict) -> dict:\n",
    "        chatollama_params = signature(OllamaLLM.__init__).parameters\n",
    "        return {k: v for k, v in kwargs.items() if k in chatollama_params}\n",
    "    \n",
    "    def filter_kwargs_for_OpenAI(self, kwargs: dict) -> dict:\n",
    "        chatopenai_params = signature(ChatOpenAI.__init__).parameters\n",
    "        return {k: v for k, v in kwargs.items() if k in chatopenai_params}\n",
    "    \n",
    "    def generate_xrif_with_deepseek_model(self, query: str):\n",
    "        xrif_response = None\n",
    "        documents = self.retriever.invoke(query)\n",
    "        num_waypoints_injected = len(documents)\n",
    "        doc_texts = \"\\n\".join([doc.page_content for doc in documents])\n",
    "\n",
    "        rendered_prompt = self.prompt_template.format(documents = doc_texts, query= query, starting_location = f\"X-Coordinate: {self.x_coord}, Y-Coordinate: {self.y_coord}\")\n",
    "\n",
    "        llm_response = self.rag_chain.invoke({\"documents\": doc_texts, \"query\": query, \"starting_location\": f\"X-Coordinate: {self.x_coord}, Y-Coordinate: {self.y_coord}\"})\n",
    "\n",
    "        xrif_response = re.sub(r\"<think>.*?</think>\", \"\", llm_response, flags=re.DOTALL)\n",
    "\n",
    "        xrif_response = re.sub(r\"\\n\", \"\", xrif_response)\n",
    "\n",
    "        xrif_response = re.sub(r\"\\\\n\", \"\", xrif_response)\n",
    "\n",
    "        start = xrif_response.find('{')\n",
    "        end = xrif_response.rfind('}')\n",
    "\n",
    "        if start != -1 and end != -1:\n",
    "            xrif_response = xrif_response[start:end+1]\n",
    "            try:\n",
    "                xrif_response = json.loads(xrif_response)\n",
    "            except json.JSONDecodeError as e:\n",
    "                print(\"Error parsing JSON response\")\n",
    "\n",
    "        \n",
    "        return xrif_response, llm_response, rendered_prompt, doc_texts, num_waypoints_injected\n",
    "    \n",
    "    def batch_test_run(self, df: pd.DataFrame, output_folder: Path):\n",
    "        num_rows = len(df)\n",
    "        print(f\"Processing {num_rows} test prompts...\")\n",
    "        with tqdm.tqdm(total=num_rows) as pbar:\n",
    "            for index, row in df.iterrows():\n",
    "                now = pd.Timestamp.now().strftime(\"%Y-%m-%d-%H-%M-%S\")\n",
    "                dump_json = {}\n",
    "                error_message = 'No Error'\n",
    "                note = ''\n",
    "                query = row['Prompt']\n",
    "                self.x_coord = row['Starting X']\n",
    "                self.y_coord = row['Starting Y']\n",
    "                expected_response = row['Expected Response']\n",
    "                llm_response, xrif_response = self.generate_xrif_with_deepseek_model(query)\n",
    "\n",
    "                dump_json['Data Set'] = row['Data Set']\n",
    "                dump_json['Experiment ID'] = row['Experiment ID']\n",
    "                dump_json['Prompt ID'] = row['Prompt ID']\n",
    "                dump_json['Prompt'] = query\n",
    "                dump_json['Full LLM Response'] = str(llm_response)\n",
    "                dump_json['XRIF Generated'] = xrif_response if isinstance(xrif_response, dict) else str(xrif_response)\n",
    "                dump_json['Starting X'] = self.x_coord\n",
    "                dump_json['Starting Y'] = self.y_coord\n",
    "                dump_json['Expected Response'] = expected_response\n",
    "                dump_json['Expected Response Type'] = row['Expected Response Type']\n",
    "                expected_response = list(expected_response)\n",
    "                if xrif_response and type(xrif_response) == dict:\n",
    "                    if 'actions' in xrif_response.keys():\n",
    "                        actions = xrif_response['actions']\n",
    "                        if len(expected_response) == len(actions):\n",
    "                            if row['Expected Response Type'] == 'Nav':\n",
    "                                list_of_locations = [action['input']['name'] for action in actions if (action['action'] == 'navigate') and ('input' in action) and ('name' in action['input'])]\n",
    "                                set_of_locations = set(list_of_locations)\n",
    "                                set_of_expected_locations = set(expected_response)\n",
    "                                if set_of_locations == set_of_expected_locations:\n",
    "                                    note = \"All locations are present in the response\"\n",
    "                                    dump_json['Notes'] = note\n",
    "                            for i in range(len(xrif_response['actions'])):\n",
    "                                if actions[i]['action'] == 'navigate' :\n",
    "                                    if type(expected_response[i]) == 'str':\n",
    "                                        if 'input' in actions[i]:\n",
    "                                            if 'name' in actions[i]['input'].keys():\n",
    "                                                if actions[i]['input']['name'] == expected_response[i] or (type(expected_response[i]) == 'list' and actions[i]['input']['name'] in expected_response[i]):\n",
    "                                                    continue\n",
    "                                                else:\n",
    "                                                    error_message = f\"Expected location name: {actions[i]['name']} does not match with the provided location name: {expected_response[i]}\"\n",
    "                                                    dump_json['Error Message'] = error_message\n",
    "                                                    break\n",
    "                                            else:\n",
    "                                                error_message = f\"Response Error Missing field: 'name' in action object {i}\"\n",
    "                                                dump_json['Error Message'] = error_message\n",
    "                                                break\n",
    "                                        else:\n",
    "                                            error_message = f\"Response Error Missing field: 'input' in action object {i}\"\n",
    "                                            dump_json['Error Message'] = error_message\n",
    "                                            break\n",
    "                                    else:\n",
    "                                        error_message = f\"Expected Response Error: Expected Response Type is not 'Nav' for action object {i}\"\n",
    "                                        dump_json['Error Message'] = error_message\n",
    "                                        break\n",
    "                                elif actions[i]['action'] == 'wait':\n",
    "                                    if type(expected_response[i]) == 'tuple':\n",
    "                                        if 'input' in actions[i]:\n",
    "                                                if actions[i]['action'] != expected_response[i][0]:\n",
    "                                                    error_message = f\"Expected action at action object {i} : {expected_response[i][0]}  does not match with the provided action: {actions[i]['action']}\"\n",
    "                                                    dump_json['Error Message'] = error_message\n",
    "                                                    break\n",
    "                                                else:\n",
    "                                                    if (int(actions[i]['input']))/60 == expected_response[i][1]:\n",
    "                                                        error_message = f\"Expected wait time: {actions[i]['input']} does not match with the provided wait time: {expected_response[i][1]}\"\n",
    "                                                        dump_json['Error Message'] = error_message\n",
    "                                                        break\n",
    "                                        else:\n",
    "                                            error_message = f\"Response Error Missing field: 'input' in action object {i}\"\n",
    "                                            dump_json['Error Message'] = error_message\n",
    "                                            break\n",
    "                                    else:\n",
    "                                        error_message = f\"Expected Response Error: Expected Response Type is not 'wait' for action object {i}\"\n",
    "                                        dump_json['Error Message'] = error_message\n",
    "                                        break\n",
    "                                elif actions[i]['action'] == 'speak':\n",
    "                                    if type(expected_response[i]) == 'tuple':\n",
    "                                        if ('action' in actions[i]) and ('input' in actions[i]):\n",
    "                                            if actions[i]['action'] == expected_response[i][0] and (actions[i]['input'] == expected_response[i][1] or (type(expected_response[i]) == 'list' and actions[i]['input'] in expected_response[i])):\n",
    "                                                continue\n",
    "                                            else:\n",
    "                                                error_message = f\"Expected speak message: {expected_response[i]} does not match with the generated speak message: {actions[i]['input']} or Expected action: {expected_response[i][0]} does not match with the generated action: {actions[i]['action']}\"\n",
    "                                                dump_json['Error Message'] = error_message\n",
    "                                                break\n",
    "                                        else:\n",
    "                                            error_message = f\"Response Error Missing field: 'input' or 'action' in action object {i}\"\n",
    "                                            dump_json['Error Message'] = error_message\n",
    "                                            break\n",
    "                                    else:\n",
    "                                        error_message = f\"Expected Response Error: Expected Response Type is not correct for action object {i}\"\n",
    "                                        dump_json['Error Message'] = error_message\n",
    "                                        break\n",
    "                else:\n",
    "                    error_message = \"XRIF response is Invalid\"\n",
    "                    dump_json['Error Message'] = error_message\n",
    "                \n",
    "                if not os.path.exists(OUTPUT_DIR / output_folder):\n",
    "                    os.makedirs(OUTPUT_DIR / output_folder)\n",
    "\n",
    "                with open(OUTPUT_DIR / output_folder / f\"Prompt_{row['Prompt ID']}_{now}.json\", 'w') as file:\n",
    "                    json.dump(dump_json, file, indent=4)\n",
    "                pbar.update(1)\n",
    "\n",
    "        return OUTPUT_DIR / output_folder\n",
    "\n",
    "    def generate_xrif_with_google_model(self, query: str):\n",
    "        xrif_response = None\n",
    "        documents = self.retriever.invoke(query)\n",
    "        num_waypoints_injected = len(documents) \n",
    "        doc_texts = \"\\n\".join([doc.page_content for doc in documents])\n",
    "\n",
    "        rendered_prompt = self.prompt_template.format(documents=doc_texts, query = query, starting_location = f\"X-Coordinate: {self.x_coord}, Y-Coordinate: {self.y_coord}\")\n",
    "\n",
    "        llm_response = self.rag_chain.invoke({\"documents\": doc_texts, \"query\": query, \"starting_location\": f\"X-Coordinate: {self.x_coord}, Y-Coordinate: {self.y_coord}\"})\n",
    "\n",
    "        try:\n",
    "            xrif_response = llm_response.strip(\"```json\\n```\")\n",
    "            xrif_response = json.loads(xrif_response)\n",
    "        except json.JSONDecodeError as e:\n",
    "            print(f\"Error parsing JSON response: {e}\")\n",
    "            xrif_response = llm_response\n",
    "\n",
    "        return xrif_response, llm_response, rendered_prompt, doc_texts, num_waypoints_injected\n",
    "\n",
    "    def eval_xrif(self, *, eval_json: dict, xrif_gen: dict, xrif_ex: list, response_type):\n",
    "        error_message = None\n",
    "        dump_json = eval_json\n",
    "        xrif_ex = list(xrif_ex)\n",
    "        if xrif_gen and type(xrif_gen) == dict:\n",
    "            if 'actions' in xrif_gen.keys():\n",
    "                actions = xrif_gen['actions']\n",
    "                if len(xrif_ex) == len(actions):\n",
    "                    if response_type == 'Nav':\n",
    "                        list_of_locations = [action['input']['name'] for action in actions if ('action' in action and action['action'] == 'navigate') and ('input' in action) and ('name' in action['input'])]\n",
    "                        set_of_locations = set(list_of_locations)\n",
    "                        set_of_expected_locations = set(xrif_ex)\n",
    "                        if set_of_locations == set_of_expected_locations:\n",
    "                            note = \"All locations are present in the response\"\n",
    "                            dump_json['Notes'] = note\n",
    "                    for i in range(len(xrif_gen['actions'])):\n",
    "                        if 'action' in actions[i]:\n",
    "                            if actions[i]['action'] == 'navigate' :\n",
    "                                if type(xrif_ex[i]) is str:\n",
    "                                    if 'input' in actions[i]:\n",
    "                                        if 'name' in actions[i]['input'].keys():\n",
    "                                            if actions[i]['input']['name'] == xrif_ex[i] or (type(xrif_ex[i]) == 'list' and actions[i]['input']['name'] in xrif_ex[i]):\n",
    "                                                continue\n",
    "                                            else:\n",
    "                                                error_message = f\"Expected location name: {actions[i]['input']['name']} does not match with the provided location name: {xrif_ex[i]}\"\n",
    "                                                dump_json['Error Message'] = error_message\n",
    "                                                break\n",
    "                                        else:\n",
    "                                            error_message = f\"Response Error Missing field: 'name' in action object {i}\"\n",
    "                                            dump_json['Error Message'] = error_message\n",
    "                                            break\n",
    "                                    else:\n",
    "                                        error_message = f\"Response Error Missing field: 'input' in action object {i}\"\n",
    "                                        dump_json['Error Message'] = error_message\n",
    "                                        break\n",
    "                                else:\n",
    "                                    error_message = f\"Expected Response Error: Expected Response Type is not 'Nav' for action object {i}\"\n",
    "                                    dump_json['Error Message'] = error_message\n",
    "                                    break\n",
    "                            elif actions[i]['action'] == 'wait':\n",
    "                                if type(xrif_ex[i]) is tuple:\n",
    "                                    if 'input' in actions[i]:\n",
    "                                            if actions[i]['action'] != xrif_ex[i][0]:\n",
    "                                                error_message = f\"Expected action at action object {i} : {xrif_ex[i][0]}  does not match with the provided action: {actions[i]['action']}\"\n",
    "                                                dump_json['Error Message'] = error_message\n",
    "                                                break\n",
    "                                            else:\n",
    "                                                if (int(actions[i]['input']))/60 == xrif_ex[i][1]:\n",
    "                                                    error_message = f\"Expected wait time: {actions[i]['input']} does not match with the provided wait time: {xrif_ex[i][1]}\"\n",
    "                                                    dump_json['Error Message'] = error_message\n",
    "                                                    break\n",
    "                                    else:\n",
    "                                        error_message = f\"Response Error Missing field: 'input' in action object {i}\"\n",
    "                                        dump_json['Error Message'] = error_message\n",
    "                                        break\n",
    "                                else:\n",
    "                                    error_message = f\"Expected Response Error: Expected Response Type is not 'wait' for action object {i}\"\n",
    "                                    dump_json['Error Message'] = error_message\n",
    "                                    break\n",
    "                            elif actions[i]['action'] == 'speak':\n",
    "                                if type(xrif_ex[i]) is tuple:\n",
    "                                    if ('action' in actions[i]) and ('input' in actions[i]):\n",
    "                                        if actions[i]['action'] == xrif_ex[i][0] and (actions[i]['input'] == xrif_ex[i][1] or (type(xrif_ex[i]) == 'list' and actions[i]['input'] in xrif_ex[i])):\n",
    "                                            continue\n",
    "                                        else:\n",
    "                                            error_message = f\"Expected speak message: {xrif_ex[i]} does not match with the generated speak message: {actions[i]['input']} or Expected action: {xrif_ex[i][0]} does not match with the generated action: {actions[i]['action']}\"\n",
    "                                            dump_json['Error Message'] = error_message\n",
    "                                            break\n",
    "                                    else:\n",
    "                                        error_message = f\"Response Error Missing field: 'input' or 'action' in action object {i}\"\n",
    "                                        dump_json['Error Message'] = error_message\n",
    "                                        break\n",
    "                                else:\n",
    "                                    error_message = f\"Expected Response Error: Expected Response Type is not correct for action object {i}\"\n",
    "                                    dump_json['Error Message'] = error_message\n",
    "                                    break\n",
    "                        else:\n",
    "                            error_message = f\"Response Error Missing field: 'action' in action object {i}\"\n",
    "                            dump_json['Error Message'] = error_message\n",
    "                            break\n",
    "        else:\n",
    "            error_message = \"XRIF response is Invalid\"\n",
    "            dump_json['Error Message'] = error_message\n",
    "        if not error_message:\n",
    "            dump_json['Error Message'] = \"\"\n",
    "        return dump_json\n",
    "    \n",
    "    def generate_xrif_with_openai_model(self, query: str):\n",
    "        xrif_response = None\n",
    "        documents = self.retriever.invoke(query)\n",
    "        num_waypoints_injected = len(documents)\n",
    "        doc_texts = \"\\n\".join([doc.page_content for doc in documents])\n",
    "        rendered_prompt = self.prompt_template.format(documents=doc_texts, query = query, starting_location = f\"X-Coordinate: {self.x_coord}, Y-Coordinate: {self.y_coord}\")\n",
    "\n",
    "        llm_response = self.rag_chain.invoke({\"documents\": doc_texts, \"query\": query, \"starting_location\": f\"X-Coordinate: {self.x_coord}, Y-Coordinate: {self.y_coord}\"})\n",
    "\n",
    "        try:\n",
    "            xrif_response = llm_response.strip(\"```json\\n```\")\n",
    "            xrif_response = json.loads(xrif_response)\n",
    "        except json.JSONDecodeError as e:\n",
    "            print(f\"Error parsing JSON response: {e}\")\n",
    "            xrif_response = llm_response\n",
    "\n",
    "        return xrif_response, llm_response, rendered_prompt, doc_texts, num_waypoints_injected\n",
    "\n",
    "    def xrif_inference(self, query: str):\n",
    "        if self.language_model_type == \"Ollama\":\n",
    "            return self.generate_xrif_with_deepseek_model(query)\n",
    "        elif self.language_model_type == \"google\":\n",
    "            return self.generate_xrif_with_google_model(query)\n",
    "        elif self.language_model_type == \"OpenAI\":\n",
    "            return self.generate_xrif_with_openai_model(query)\n",
    "        else:\n",
    "            raise Exception(\"Invalid model type\")\n",
    "        \n",
    "    def batch_experiment_run(self, df: pd.DataFrame, output_folder: Path, sleep_time: int = 0):\n",
    "        num_rows = len(df)\n",
    "        print(f\"Processing {num_rows} test prompts...\")\n",
    "        with tqdm.tqdm(total=num_rows) as pbar:\n",
    "            for index, row in df.iterrows():\n",
    "                now = pd.Timestamp.now().strftime(\"%Y-%m-%d-%H-%M-%S\")\n",
    "                prompt_result = {}\n",
    "                query = row['Prompt']\n",
    "                self.x_coord = row['Starting X']\n",
    "                self.y_coord = row['Starting Y']\n",
    "                expected_response = row['Expected Response']\n",
    "                xrif_response, llm_response, rendered_prompt, doc_texts, num_waypoints_injected = self.xrif_inference(query)\n",
    "                prompt_result['rendered_prompt'] = rendered_prompt\n",
    "                prompt_result['Waypoints Injected'] = doc_texts\n",
    "                prompt_result['num_waypoints_injected'] = num_waypoints_injected\n",
    "                prompt_result['Data Set'] = row['Data Set']\n",
    "                prompt_result['Experiment ID'] = row['Experiment ID']\n",
    "                prompt_result['Prompt ID'] = row['Prompt ID']\n",
    "                prompt_result['Prompt'] = query\n",
    "                prompt_result['Full LLM Response'] = str(llm_response)\n",
    "                prompt_result['XRIF Generated'] = xrif_response if isinstance(xrif_response, dict) else str(xrif_response)\n",
    "                prompt_result['Starting X'] = self.x_coord\n",
    "                prompt_result['Starting Y'] = self.y_coord\n",
    "                prompt_result['Expected Response'] = expected_response\n",
    "                prompt_result['Expected Response Type'] = row['Expected Response Type']\n",
    "                expected_response = list(expected_response)\n",
    "                dump_json = self.eval_xrif(eval_json = prompt_result, xrif_gen = xrif_response, xrif_ex = expected_response, response_type = row['Expected Response Type'])\n",
    "                if not os.path.exists(OUTPUT_DIR / output_folder):\n",
    "                    os.makedirs(OUTPUT_DIR / output_folder)\n",
    "\n",
    "                with open(OUTPUT_DIR / output_folder / f\"Prompt_{row['Prompt ID']}_{now}.json\", 'w') as file:\n",
    "                    json.dump(dump_json, file, indent=4)\n",
    "\n",
    "                if sleep_time > 0:\n",
    "                    time.sleep(sleep_time)\n",
    "                pbar.update(1)\n",
    "\n",
    "        return OUTPUT_DIR / output_folder"
   ]
  },
  {
   "cell_type": "code",
   "execution_count": 10,
   "metadata": {},
   "outputs": [],
   "source": [
    "def process_test_dataset(dataset: pd.DataFrame):\n",
    "    dataset['Expected Response'] = dataset['Expected Response'].to_list()\n",
    "    dataset.dropna(subset=['Prompt', 'Expected Response'], inplace=True)\n",
    "    \n",
    "    return dataset\n",
    "\n",
    "\n",
    "def load_experiment_from_config(config_file: Path) -> Tuple[XRIFGenerator, pd.DataFrame, Path]:\n",
    "    with open(config_file, 'r') as file:\n",
    "        config_dict = safe_load(file)\n",
    "        test_dataset_path = config_dict['test_dataset']\n",
    "\n",
    "        test_dataset = pd.read_csv(test_dataset_path)\n",
    "        output_folder = config_dict['output_folder']\n",
    "\n",
    "        del config_dict['output_folder']\n",
    "        del config_dict['test_dataset']\n",
    "\n",
    "        test_dataset = process_test_dataset(test_dataset)\n",
    "        \n",
    "        return XRIFGenerator(**config_dict), test_dataset, output_folder"
   ]
  },
  {
   "cell_type": "code",
   "execution_count": null,
   "metadata": {},
   "outputs": [
    {
     "name": "stdout",
     "output_type": "stream",
     "text": [
      "Loading model: gemini-2.0-flash...\n",
      "Processing 20 waypoints...\n"
     ]
    },
    {
     "name": "stderr",
     "output_type": "stream",
     "text": [
      "100%|██████████| 20/20 [00:00<00:00, 37516.14it/s]"
     ]
    },
    {
     "name": "stdout",
     "output_type": "stream",
     "text": [
      "Adding waypoints to vector store...\n",
      "Creating retriever...\n",
      "Creating prompt template...\n",
      "Creating RAG chain...\n"
     ]
    },
    {
     "name": "stderr",
     "output_type": "stream",
     "text": [
      "\n"
     ]
    }
   ],
   "source": [
    "google_xrif = XRIFGenerator(prompt_template=\"prompts/e7_xrif_actions_6.yaml\", \n",
    "                            waypoints_csv=\"waypoint_datasets/uw_e7_floor1.csv\",\n",
    "                            language_model_type=\"google\",\n",
    "                            embed_model_type=\"HuggingFace\",\n",
    "                            language_model=\"gemini-2.0-flash\",\n",
    "                            embed_model=\"sentence-transformers/all-MiniLM-L6-v2\",\n",
    "                            chat_kwargs={\"max_tokens\": 500, \"temperature\": 0.2, \"top_p\": 0.2},\n",
    "                            fetch_all=True)"
   ]
  },
  {
   "cell_type": "code",
   "execution_count": 105,
   "metadata": {},
   "outputs": [
    {
     "name": "stdout",
     "output_type": "stream",
     "text": [
      "Loading model: gpt-4o-mini...\n",
      "Processing 20 waypoints...\n"
     ]
    },
    {
     "name": "stderr",
     "output_type": "stream",
     "text": [
      "100%|██████████| 20/20 [00:00<00:00, 38746.46it/s]"
     ]
    },
    {
     "name": "stdout",
     "output_type": "stream",
     "text": [
      "Adding waypoints to vector store...\n",
      "Creating retriever...\n",
      "Creating prompt template...\n",
      "Creating RAG chain...\n"
     ]
    },
    {
     "name": "stderr",
     "output_type": "stream",
     "text": [
      "\n"
     ]
    }
   ],
   "source": [
    "openai_xrif = XRIFGenerator(prompt_template=\"prompts/e7_xrif_actions_6.yaml\",\n",
    "                            waypoints_csv=\"waypoint_datasets/uw_e7_floor1.csv\",\n",
    "                            language_model_type=\"OpenAI\",\n",
    "                            embed_model_type=\"HuggingFace\",\n",
    "                            language_model=\"gpt-4o-mini\",\n",
    "                            embed_model=\"sentence-transformers/all-MiniLM-L6-v2\",\n",
    "                            chat_kwargs={\"num_predict\": 500, \"temperature\": 0.2, \"top_p\": 0.2},\n",
    "                            fetch_all=True)"
   ]
  },
  {
   "cell_type": "code",
   "execution_count": 106,
   "metadata": {},
   "outputs": [],
   "source": [
    "res = openai_xrif.generate_xrif_with_openai_model(\"Navigate to the nearest washroom\")"
   ]
  },
  {
   "cell_type": "code",
   "execution_count": 107,
   "metadata": {},
   "outputs": [
    {
     "data": {
      "text/plain": [
       "({'actions': [{'action': 'speak', 'input': 'This waypoint does not exist'}]},\n",
       " '{\\n  \"actions\": [\\n    {\\n      \"action\": \"speak\",\\n      \"input\": \"This waypoint does not exist\"\\n    }\\n  ]\\n}',\n",
       " '# Role\\nYou control a robot that navigates through a building using a JSON instruction format. You have access to several pre-defined waypoints and functions. Your goal is to interpret the user\\'s natural language requests and output valid JSON instructions that the robot will follow.\\n\\n# JSON Output Format\\nEach output must be valid JSON (following RFC 8259) with the following structure:\\n{\\n  \"actions\": [\\n    {\\n      \"action\": \"<action_type>\",  // Must be one of: \"navigate\", \"speak\", \"wait\"\\n      \"input\": <value>  // For \"navigate\": an object with \"name\", \"x\", and \"y\"; for \"speak\": a string; for \"wait\": a number (in seconds)\\n    },\\n    ...\\n  ]\\n}\\nEnsure there are no trailing commas and all JSON rules are followed.\\n\\n# Context\\n- Available Waypoints: \\n  A waypoint called Shower B exists at X-Coordinate, 827, and Y-Coordinate, 610, apart of Section, East Side. Words associated with the waypoint, Shower B are Clean, Wash, 1919.\\nA waypoint called RoboHub exists at X-Coordinate, 1339, and Y-Coordinate, 906, apart of Section, North Side. Words associated with the waypoint, RoboHub are Robotics, 1339, Robot, Drone.\\nA waypoint called Assembly Room exists at X-Coordinate, 1865, and Y-Coordinate, 434, apart of Section, East Side. Words associated with the waypoint, Assembly Room are Workspace, Machines, Repair, Work, Build, Manufacture, Assemble, 1401.\\nA waypoint called C&D - Hot Food Area exists at X-Coordinate, 2091, and Y-Coordinate, 1157, apart of Section, C&D. Words associated with the waypoint, C&D - Hot Food Area are Pizza, Jamacian Patties, Breakfast Sandwiches, Egg McMuffin, Lunch.\\nA waypoint called E5 Entrance exists at X-Coordinate, 1535, and Y-Coordinate, 1535, apart of Section, South Side. Words associated with the waypoint, E5 Entrance are E5, Engineering 5, Design Teams, Machine Shop, Student Shop, 1834.\\nA waypoint called Silent Study exists at X-Coordinate, 1443, and Y-Coordinate, 572, apart of Section, East Side. Words associated with the waypoint, Silent Study are Study, Quiet, Studyspace, Work, 1302, Independant.\\nA waypoint called Ideas Clinic exists at X-Coordinate, 2065, and Y-Coordinate, 1008, apart of Section, South Side. Words associated with the waypoint, Ideas Clinic are Workshop, Event, Big Room, Machines, 1427.\\nA waypoint called Elevators exists at X-Coordinate, 1709, and Y-Coordinate, 778, apart of Section, East Side. Words associated with the waypoint, Elevators are Floor, 1841, 1842, 1843.\\nA waypoint called Novelties exists at X-Coordinate, 1935, and Y-Coordinate, 1006, apart of Section, South Side. Words associated with the waypoint, Novelties are EngSoc, Engineering Society, Merch, Merchandise, Store, Patches, Clothes, 1419.\\nA waypoint called C&D - Main Entrance exists at X-Coordinate, 1965, and Y-Coordinate, 1132, apart of Section, C&D. Words associated with the waypoint, C&D - Main Entrance are Coffee and Donuts, Cafe, Coffee Shop, Store, Snacks, Drinks, 1416.\\nA waypoint called South Entrance exists at X-Coordinate, 2243, and Y-Coordinate, 1083, apart of Section, South Side. Words associated with the waypoint, South Entrance are Back, Plaza, 1851.\\nA waypoint called C&D - Cold Drink Area exists at X-Coordinate, 2005, and Y-Coordinate, 1277, apart of Section, C&D. Words associated with the waypoint, C&D - Cold Drink Area are Water, Iced Tea, Pop, Soda, Energy Drink, Sports Drink, Cold Drink.\\nA waypoint called Temporary Booth exists at X-Coordinate, 1425, and Y-Coordinate, 1229, apart of Section, North Side. Words associated with the waypoint, Temporary Booth are EngSoc, Engineering Society, Gradcomm, Pizza, Foyer, Booth, 1348.\\nA waypoint called Microwaves exists at X-Coordinate, 1817, and Y-Coordinate, 1334, apart of Section, South Side. Words associated with the waypoint, Microwaves are Food, Heating, Eating, 1414, Lunch.\\nA waypoint called Shower A exists at X-Coordinate, 951, and Y-Coordinate, 616, apart of Section, East Side. Words associated with the waypoint, Shower A are Clean, Wash, 1918.\\nA waypoint called C&D - Coffee Area exists at X-Coordinate, 2227, and Y-Coordinate, 1169, apart of Section, C&D. Words associated with the waypoint, C&D - Coffee Area are Coffee, Tea, Hot Chocolate, French Vanilla, Hot Drink.\\nA waypoint called East Entrance exists at X-Coordinate, 1611, and Y-Coordinate, 413, apart of Section, East Side. Words associated with the waypoint, East Entrance are Side, E6, Engineering 6, Philip Street, 1821.\\nA waypoint called North Entrance exists at X-Coordinate, 739, and Y-Coordinate, 1250, apart of Section, North Side. Words associated with the waypoint, North Entrance are Front, Engineering Sign, Bus Stop, 1831.\\nA waypoint called C&D - Pastry Area exists at X-Coordinate, 2069, and Y-Coordinate, 1199, apart of Section, C&D. Words associated with the waypoint, C&D - Pastry Area are Snack, Cookie, Croissant, Rice crispy square, Bagel, Donut, Biscuit.\\nA waypoint called C&D - Snack Area exists at X-Coordinate, 2071, and Y-Coordinate, 1247, apart of Section, C&D. Words associated with the waypoint, C&D - Snack Area are Chips, Chocolate Bar, Protein Bar, Snack.\\n- Starting Location : X-Coordinate: 0, Y-Coordinate: 0\\n- Available Functions: Navigate, speak, and wait.\\n\\n# Understanding User Prompts and Keyword-Based Waypoint Matching\\nWhen interpreting the user\\'s request, follow these strict rules for identifying the referenced waypoint using its corresponding keywords:\\n\\n1. Ignore Extra Tokens:  \\n  If the user\\'s input begins with extra tokens (such as an alphanumeric building code or other prefixes), ignore them. For example, treat \"E7 ideas clinic\" as \"ideas clinic\".\\n\\n2. Keyword Matching:  \\n  Each available waypoint comes with a set of keywords. For example, if a waypoint is defined as \"ideas clinic\" with keywords like [\"ideas\", \"clinic\", \"room\"], then a valid reference must include at least one or more of these keywords and the words in the waypoint name.  \\n  - The input \"ideas clinic\" or \"ideas room\" should both match this waypoint because they include the core identifier \"ideas\".\\n\\n3. Strict Match Requirement:  \\n  After ignoring extra tokens, if the remaining text does not contain any of the keywords or the words in the waypoint name for a given waypoint, or if more than one waypoint could be inferred without a clear winner, then the reference is considered invalid.  \\n  In other words, a waypoint is only valid if the cleaned input contains at least one of the defined keywords or the words in the waypoint name for that waypoint and clearly points to one single available waypoint.\\n\\n4. Invalid Waypoint Response:  \\n  If you determine that none of the available waypoints meets the keyword match criteria, output the following error response:\\n{\\n  \"actions\": [\\n    {\\n      \"action\": \"speak\",\\n      \"input\": \"This waypoint does not exist\"\\n    }\\n  ]\\n}\\n\\n# Handling Complex Commands\\n- Process commands sequentially in the order provided.\\n- For multi-step commands, list the actions in the exact order they should be executed.\\n- If multiple interpretations are possible, choose the interpretation that minimizes extra actions.\\n\\n# Supported Edge Cases\\n- Unknown Waypoint:  \\n  If, after ignoring extra tokens, the input does not include at least one of the corresponding keywords for any available waypoint, output:\\n{\\n  \"actions\": [\\n    {\\n      \"action\": \"speak\",\\n      \"input\": \"This waypoint does not exist\"\\n    }\\n  ]\\n}\\n- Invalid or Ambiguous Commands:  \\n  Output a single \"speak\" action with a clear error message.\\n- Unsupported Actions:  \\n  If the request includes any function beyond \"navigate\", \"speak\", or \"wait\", output:\\n{\\n  \"actions\": [\\n    {\\n      \"action\": \"speak\",\\n      \"input\": \"Unsupported action requested\"\\n    }\\n  ]\\n}\\n\\n# Examples\\nExample Prompt: Can you pick something up from the C and D areas and drop it off at the RoboHub?\\nExample Answer:\\n{\\n    \"actions\": [\\n        {\\n            \"action\": \"navigate\",\\n            \"input\": {\\n                \"name\": \"C&D - Coffee Area\",\\n                \"x\": 100,\\n                \"y\": 100\\n            }\\n        },\\n        {\\n            \"action\": \"navigate\",\\n            \"input\": {\\n                \"name\": \"RoboHub Entrance\",\\n                \"x\": 25,\\n                \"y\": 50\\n            }\\n        }\\n    ]\\n}\\n\\nExample Prompt: Can you ask Zach for the keys? He is at the RoboHub. After receiving the keys, drop them off at the Ideas Clinic. Also, wait for 10 seconds when you meet Zach.\\nExample Answer:\\n{\\n  \"actions\": [\\n    {\\n      \"action\": \"navigate\",\\n      \"input\": {\\n        \"name\": \"RoboHub\",\\n        \"x\": 100,\\n        \"y\": 100\\n      }\\n    },\\n    {\\n      \"action\": \"speak\",\\n      \"input\": \"Hey Zach, can you hand me the keys?\"\\n    },\\n    {\\n      \"action\": \"wait\",\\n      \"input\": 10\\n    },\\n    {\\n      \"action\": \"navigate\",\\n      \"input\": {\\n        \"name\": \"Room 1427 - Ideas Clinic\",\\n        \"x\": 25,\\n        \"y\": 75\\n      }\\n    }\\n  ]\\n}\\n\\nExample Prompt: Please go to the unknown zone and then to the RoboHub.\\nExample Answer:\\n{\\n  \"actions\": [\\n    {\\n      \"action\": \"speak\",\\n      \"input\": \"Invalid request: \\'unknown zone\\' is not a valid waypoint\"\\n    }\\n  ]\\n}\\n\\n*Below is the users query to respond to*\\nNavigate to the nearest washroom',\n",
       " 'A waypoint called Shower B exists at X-Coordinate, 827, and Y-Coordinate, 610, apart of Section, East Side. Words associated with the waypoint, Shower B are Clean, Wash, 1919.\\nA waypoint called RoboHub exists at X-Coordinate, 1339, and Y-Coordinate, 906, apart of Section, North Side. Words associated with the waypoint, RoboHub are Robotics, 1339, Robot, Drone.\\nA waypoint called Assembly Room exists at X-Coordinate, 1865, and Y-Coordinate, 434, apart of Section, East Side. Words associated with the waypoint, Assembly Room are Workspace, Machines, Repair, Work, Build, Manufacture, Assemble, 1401.\\nA waypoint called C&D - Hot Food Area exists at X-Coordinate, 2091, and Y-Coordinate, 1157, apart of Section, C&D. Words associated with the waypoint, C&D - Hot Food Area are Pizza, Jamacian Patties, Breakfast Sandwiches, Egg McMuffin, Lunch.\\nA waypoint called E5 Entrance exists at X-Coordinate, 1535, and Y-Coordinate, 1535, apart of Section, South Side. Words associated with the waypoint, E5 Entrance are E5, Engineering 5, Design Teams, Machine Shop, Student Shop, 1834.\\nA waypoint called Silent Study exists at X-Coordinate, 1443, and Y-Coordinate, 572, apart of Section, East Side. Words associated with the waypoint, Silent Study are Study, Quiet, Studyspace, Work, 1302, Independant.\\nA waypoint called Ideas Clinic exists at X-Coordinate, 2065, and Y-Coordinate, 1008, apart of Section, South Side. Words associated with the waypoint, Ideas Clinic are Workshop, Event, Big Room, Machines, 1427.\\nA waypoint called Elevators exists at X-Coordinate, 1709, and Y-Coordinate, 778, apart of Section, East Side. Words associated with the waypoint, Elevators are Floor, 1841, 1842, 1843.\\nA waypoint called Novelties exists at X-Coordinate, 1935, and Y-Coordinate, 1006, apart of Section, South Side. Words associated with the waypoint, Novelties are EngSoc, Engineering Society, Merch, Merchandise, Store, Patches, Clothes, 1419.\\nA waypoint called C&D - Main Entrance exists at X-Coordinate, 1965, and Y-Coordinate, 1132, apart of Section, C&D. Words associated with the waypoint, C&D - Main Entrance are Coffee and Donuts, Cafe, Coffee Shop, Store, Snacks, Drinks, 1416.\\nA waypoint called South Entrance exists at X-Coordinate, 2243, and Y-Coordinate, 1083, apart of Section, South Side. Words associated with the waypoint, South Entrance are Back, Plaza, 1851.\\nA waypoint called C&D - Cold Drink Area exists at X-Coordinate, 2005, and Y-Coordinate, 1277, apart of Section, C&D. Words associated with the waypoint, C&D - Cold Drink Area are Water, Iced Tea, Pop, Soda, Energy Drink, Sports Drink, Cold Drink.\\nA waypoint called Temporary Booth exists at X-Coordinate, 1425, and Y-Coordinate, 1229, apart of Section, North Side. Words associated with the waypoint, Temporary Booth are EngSoc, Engineering Society, Gradcomm, Pizza, Foyer, Booth, 1348.\\nA waypoint called Microwaves exists at X-Coordinate, 1817, and Y-Coordinate, 1334, apart of Section, South Side. Words associated with the waypoint, Microwaves are Food, Heating, Eating, 1414, Lunch.\\nA waypoint called Shower A exists at X-Coordinate, 951, and Y-Coordinate, 616, apart of Section, East Side. Words associated with the waypoint, Shower A are Clean, Wash, 1918.\\nA waypoint called C&D - Coffee Area exists at X-Coordinate, 2227, and Y-Coordinate, 1169, apart of Section, C&D. Words associated with the waypoint, C&D - Coffee Area are Coffee, Tea, Hot Chocolate, French Vanilla, Hot Drink.\\nA waypoint called East Entrance exists at X-Coordinate, 1611, and Y-Coordinate, 413, apart of Section, East Side. Words associated with the waypoint, East Entrance are Side, E6, Engineering 6, Philip Street, 1821.\\nA waypoint called North Entrance exists at X-Coordinate, 739, and Y-Coordinate, 1250, apart of Section, North Side. Words associated with the waypoint, North Entrance are Front, Engineering Sign, Bus Stop, 1831.\\nA waypoint called C&D - Pastry Area exists at X-Coordinate, 2069, and Y-Coordinate, 1199, apart of Section, C&D. Words associated with the waypoint, C&D - Pastry Area are Snack, Cookie, Croissant, Rice crispy square, Bagel, Donut, Biscuit.\\nA waypoint called C&D - Snack Area exists at X-Coordinate, 2071, and Y-Coordinate, 1247, apart of Section, C&D. Words associated with the waypoint, C&D - Snack Area are Chips, Chocolate Bar, Protein Bar, Snack.',\n",
       " 20)"
      ]
     },
     "execution_count": 107,
     "metadata": {},
     "output_type": "execute_result"
    }
   ],
   "source": [
    "res"
   ]
  },
  {
   "cell_type": "code",
   "execution_count": 62,
   "metadata": {},
   "outputs": [],
   "source": [
    "xrif_response, llm_response, render, docs, num_waypoints_injected = google_xrif.generate_xrif_with_google_model(\"Navigate to the nearest washroom\")"
   ]
  },
  {
   "cell_type": "code",
   "execution_count": null,
   "metadata": {},
   "outputs": [],
   "source": [
    "print(render)\n",
    "print(docs)"
   ]
  },
  {
   "cell_type": "code",
   "execution_count": 49,
   "metadata": {},
   "outputs": [
    {
     "data": {
      "text/plain": [
       "'```json\\n{\\n  \"actions\": [\\n    {\\n      \"action\": \"speak\",\\n      \"input\": \"This waypoint does not exist\"\\n    }\\n  ]\\n}\\n```'"
      ]
     },
     "execution_count": 49,
     "metadata": {},
     "output_type": "execute_result"
    }
   ],
   "source": [
    "llm_response"
   ]
  },
  {
   "cell_type": "code",
   "execution_count": 42,
   "metadata": {},
   "outputs": [
    {
     "data": {
      "text/plain": [
       "20"
      ]
     },
     "execution_count": 42,
     "metadata": {},
     "output_type": "execute_result"
    }
   ],
   "source": [
    "waypoints_count = 0\n",
    "waypoints = pd.read_csv(\"waypoint_datasets/uw_e7_floor1.csv\")\n",
    "for index, row in waypoints.iterrows():\n",
    "    keywords = row['Keywords']\n",
    "    waypoints_count += 1\n",
    "\n",
    "waypoints_count"
   ]
  },
  {
   "cell_type": "code",
   "execution_count": 85,
   "metadata": {},
   "outputs": [
    {
     "name": "stdout",
     "output_type": "stream",
     "text": [
      "Loading model: gemini-2.0-flash...\n",
      "Processing 20 waypoints...\n"
     ]
    },
    {
     "name": "stderr",
     "output_type": "stream",
     "text": [
      "100%|██████████| 20/20 [00:00<00:00, 38675.00it/s]\n"
     ]
    },
    {
     "name": "stdout",
     "output_type": "stream",
     "text": [
      "Adding waypoints to vector store...\n",
      "Creating retriever...\n",
      "Creating prompt template...\n",
      "Creating RAG chain...\n",
      "Processing 87 test prompts...\n"
     ]
    },
    {
     "name": "stderr",
     "output_type": "stream",
     "text": [
      "100%|██████████| 87/87 [12:39<00:00,  8.73s/it]\n"
     ]
    },
    {
     "data": {
      "text/plain": [
       "PosixPath('test_results/gemini_e7_hgf_embed')"
      ]
     },
     "execution_count": 85,
     "metadata": {},
     "output_type": "execute_result"
    }
   ],
   "source": [
    "experiment_generator, experiment_dataframe, output_folder = load_experiment_from_config(Path('experiment_configs/google/gemini_e7_hgf_embed.yaml'))\n",
    "\n",
    "experiment_generator.batch_experiment_run(experiment_dataframe, output_folder, 7)"
   ]
  },
  {
   "cell_type": "code",
   "execution_count": null,
   "metadata": {},
   "outputs": [
    {
     "name": "stdout",
     "output_type": "stream",
     "text": [
      "Loading model: deepseek-r1:14b...\n",
      "Processing 24 waypoints...\n"
     ]
    },
    {
     "name": "stderr",
     "output_type": "stream",
     "text": [
      "100%|██████████| 24/24 [00:00<00:00, 11995.15it/s]\n"
     ]
    },
    {
     "name": "stdout",
     "output_type": "stream",
     "text": [
      "Adding waypoints to vector store...\n",
      "Creating retriever...\n",
      "Creating prompt template...\n",
      "Creating RAG chain...\n",
      "Processing 60 test prompts...\n"
     ]
    },
    {
     "name": "stderr",
     "output_type": "stream",
     "text": [
      " 68%|██████▊   | 41/60 [13:52<07:01, 22.19s/it]"
     ]
    },
    {
     "name": "stdout",
     "output_type": "stream",
     "text": [
      "Error parsing JSON response\n"
     ]
    },
    {
     "name": "stderr",
     "output_type": "stream",
     "text": [
      " 93%|█████████▎| 56/60 [19:07<01:23, 21.00s/it]"
     ]
    }
   ],
   "source": [
    "experiment_generator, experiment_dataframe, output_folder = load_experiment_from_config(Path('experiment_configs/deepseek/all_warehouse_deepseek14b.yaml'))\n",
    "\n",
    "experiment_generator.batch_experiment_run(experiment_dataframe, output_folder, 0)"
   ]
  },
  {
   "cell_type": "code",
   "execution_count": 112,
   "metadata": {},
   "outputs": [
    {
     "name": "stdout",
     "output_type": "stream",
     "text": [
      "Results for eval_test...\n",
      "Results for eval_test.csv...\n",
      "Results for gemini_e7_hgf_embed.csv...\n",
      "Results for all_e7_deepseek7b...\n",
      "Results for gpt4o_mini_e7_hgf_embed.csv...\n",
      "Results for all_e7_deepseek7b_hfembed.csv...\n",
      "Results for all_e7_deepseek1.5b.csv...\n",
      "Results for all_e7_deepseek14b.csv...\n",
      "Results for all_e7_deepseek14b...\n",
      "Results for gemini_e7_hgf_embed...\n",
      "Results for all_e7_deepseek1.5b...\n",
      "Results for all_e7_deepseek7b.csv...\n",
      "Results for gpt4o_mini_e7_hgf_embed...\n",
      "Results for all_e7_deepseek7b_hfembed...\n"
     ]
    }
   ],
   "source": [
    "import os\n",
    "from pathlib import Path\n",
    "import json\n",
    "import pandas as pd\n",
    "\n",
    "\n",
    "for folder in os.listdir('test_results'):\n",
    "    print(f\"Results for {folder}...\")\n",
    "    if Path('test_results/' + folder).is_dir():\n",
    "        json_list = []\n",
    "        for file in os.listdir('test_results/' + folder):\n",
    "            with open(Path('test_results/' + folder) / file, 'r') as f:\n",
    "                json_list.append(json.load(f))\n",
    "        \n",
    "        df = pd.DataFrame(json_list)\n",
    "        df.to_csv(f\"test_results/{folder}.csv\", index=False)"
   ]
  }
 ],
 "metadata": {
  "kernelspec": {
   "display_name": "Python 3",
   "language": "python",
   "name": "python3"
  },
  "language_info": {
   "codemirror_mode": {
    "name": "ipython",
    "version": 3
   },
   "file_extension": ".py",
   "mimetype": "text/x-python",
   "name": "python",
   "nbconvert_exporter": "python",
   "pygments_lexer": "ipython3",
   "version": "3.10.16"
  }
 },
 "nbformat": 4,
 "nbformat_minor": 2
}
