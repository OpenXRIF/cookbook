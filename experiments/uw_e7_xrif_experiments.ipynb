{
 "cells": [
  {
   "cell_type": "markdown",
   "metadata": {},
   "source": [
    "# Prompting Experiments\n",
    "Waypoint-based navigation with locations derived from the E7 building at the Unviversity of Waterloo."
   ]
  },
  {
   "cell_type": "code",
   "execution_count": null,
   "metadata": {},
   "outputs": [],
   "source": [
    "import os\n",
    "import argparse\n",
    "import json\n",
    "from typing import Dict, Any\n",
    "import dotenv\n",
    "import numpy as np\n",
    "import pandas as pd\n",
    "import matplotlib.pyplot as plt\n",
    "import seaborn as sns\n",
    "from tqdm import tqdm\n",
    "from transformers import AutoModelForCausalLM, AutoTokenizer, get_linear_schedule_with_warmup\n",
    "from openai import OpenAI\n",
    "import cohere\n",
    "\n",
    "sns.set_theme(style=\"whitegrid\")"
   ]
  },
  {
   "cell_type": "code",
   "execution_count": 2,
   "metadata": {},
   "outputs": [],
   "source": [
    "dotenv.load_dotenv()\n",
    "\n",
    "COHERE_API_KEY = os.getenv(\"COHERE_API_KEY\")\n",
    "if COHERE_API_KEY is None:\n",
    "    raise ValueError(\"COHERE_API_KEY is not set\")"
   ]
  },
  {
   "cell_type": "code",
   "execution_count": 3,
   "metadata": {},
   "outputs": [],
   "source": [
    "def prompt_cohere(prompt, model_name = \"command-r-plus-08-2024\"):\n",
    "    global cohere_client\n",
    "    response = cohere_client.chat(\n",
    "        model=model_name,\n",
    "        messages=[\n",
    "            {\n",
    "                \"role\" : \"user\",\n",
    "                \"content\" : prompt\n",
    "            }\n",
    "        ],\n",
    "        response_format={\"type\": \"json_object\"},\n",
    "    )\n",
    "    return response.message.content[0].text"
   ]
  },
  {
   "cell_type": "markdown",
   "metadata": {},
   "source": [
    "### XRIF V1\n",
    "The goal of XRIF V1 is to be easily serializable (using JSON for now), making it easy to generate with simple in-context learning and chain of thought prompts. Beyond prompt engineering, fine-tuning experiments can enable smaller models to better produce more accurate XRIF instructions."
   ]
  },
  {
   "cell_type": "code",
   "execution_count": 4,
   "metadata": {},
   "outputs": [],
   "source": [
    "e7_xrif_with_waypoint_keywords = \"\"\"\n",
    "You control a robot that can navigate through a building based on a json instruction format,\n",
    "you understand several waypoints that have been given to you before (you can use RAG to retrieve\n",
    "what room numbers or waypoints correspond to which people or semantics).\n",
    "\n",
    "Here are all the waypoints you have access to:\n",
    "- E7 1st floor Elevators, floor: 1, keywords = [\"elevator\"]\n",
    "- E7 North Entrance, floor: 1, keywords = [\"entrance\"]\n",
    "- E7 East Entrance, floor: 1, keywords = [\"entrance\"]\n",
    "- E7 South Entrance, floor: 1, keywords = [\"entrance\"]\n",
    "- E7 Coffee and Donuts, floor: 1, keywords = [\"food and drink\", \"coffee\"]\n",
    "- Outreach Classroom, floor: 1, keywords = [\"classroom\"]\n",
    "- RoboHub Entrance, floor: 1, keywords = [\"workshop\", \"robots\", \"Brandon\"]\n",
    "- Vending Machine, floor: 1, keywords = [\"food and drink\"]\n",
    "- Room 2106, floor: 2, keywords = [\"office\", \"zach\", \"WEEF\"]\n",
    "\n",
    "Extra information:\n",
    "- Room 2106 is Zach's office\n",
    "- Coffee and Donuts is referred to as CnD\n",
    "\n",
    "Prompt: Can you pick something up from Zach's office and drop it off at the RoboHub?\n",
    "\n",
    "Answer:\n",
    "{\n",
    "    \"goals\": [\n",
    "        {\n",
    "            \"name\": \"Room 2106\",\n",
    "            \"keywords\": [\"office\", \"zach\", \"WEEF\"],\n",
    "            \"floor\": 1\n",
    "        },\n",
    "        {\n",
    "            \"name\": \"RoboHub Entrance\",\n",
    "            \"keywords\": [\"workshop\", \"robots\", \"Brandon\"]\n",
    "            \"floor\": 1\n",
    "        }\n",
    "    ]\n",
    "}\n",
    "\n",
    "Prompt:\n",
    "\"\"\""
   ]
  },
  {
   "cell_type": "code",
   "execution_count": 5,
   "metadata": {},
   "outputs": [],
   "source": [
    "experiments = [\n",
    "    \"Send a Coffee to Zach's Office\",\n",
    "    \"Get me an energy drink, I'm in the RoboHub\",\n",
    "    \"go to the south entrance then the north entrance\",\n",
    "]\n",
    "\n",
    "def run_experiment(prefix, list_of_inputs):\n",
    "    for input in list_of_inputs:\n",
    "        print(f\"Input: {input}\")\n",
    "        print(prompt_cohere(f\"{prefix}{input}\"))"
   ]
  },
  {
   "cell_type": "markdown",
   "metadata": {},
   "source": [
    "### XRIF V2\n",
    "V2 introduces action calling, which allows XRIF to go beyond just waypoint navigation."
   ]
  },
  {
   "cell_type": "code",
   "execution_count": 6,
   "metadata": {},
   "outputs": [],
   "source": [
    "XRIF_MODES = [\"learning\", \"navigating\", \"conversation\", \"teleop\"]"
   ]
  },
  {
   "cell_type": "code",
   "execution_count": 7,
   "metadata": {},
   "outputs": [],
   "source": [
    "waypoint_list_v1 = [\n",
    "    {\n",
    "        \"name\": \"E7 1st floor Elevators\",\n",
    "        \"x\": 50,\n",
    "        \"y\": 50,\n",
    "        \"floor\": 1,\n",
    "        \"keywords\": [\"elevator\"],\n",
    "    },\n",
    "    {\n",
    "        \"name\": \"E7 North Entrance\",\n",
    "        \"x\": 50,\n",
    "        \"y\": 0,\n",
    "        \"floor\": 1,\n",
    "        \"keywords\": [\"entrance\"],\n",
    "    },\n",
    "    {\n",
    "        \"name\": \"E7 East Entrance\",\n",
    "        \"x\": 0,\n",
    "        \"y\": 50,\n",
    "        \"floor\": 1,\n",
    "        \"keywords\": [\"entrance\"],\n",
    "    },\n",
    "    {\n",
    "        \"name\": \"E7 South Entrance\",\n",
    "        \"x\": 50,\n",
    "        \"y\": 100,\n",
    "        \"floor\": 1,\n",
    "        \"keywords\": [\"entrance\"],\n",
    "    },\n",
    "    {\n",
    "        \"name\": \"E7 Coffee and Donuts\",\n",
    "        \"x\": 75,\n",
    "        \"y\": 75,\n",
    "        \"floor\": 1,\n",
    "        \"keywords\": [\"food and drink\", \"coffee\", \"breakfast\", \"snacks\"],\n",
    "        \"aliases\": [\"CnD\", \"C and D\"]\n",
    "    },\n",
    "    {\n",
    "        \"name\": \"Room 1427 - Ideas Clinic\",\n",
    "        \"x\": 25,\n",
    "        \"y\": 75,\n",
    "        \"floor\": 1,\n",
    "        \"keywords\": [\"classroom\", \"workshop\", \"lab\"],\n",
    "    },\n",
    "    {\n",
    "        \"name\": \"Outreach Classroom\",\n",
    "        \"x\": 25,\n",
    "        \"y\": 25,\n",
    "        \"floor\": 1,\n",
    "        \"keywords\": [\"classroom\", \"lecture hall\"],\n",
    "    },\n",
    "    {\n",
    "        \"name\": \"RoboHub Entrance\",\n",
    "        \"x\": 25,\n",
    "        \"y\": 50,\n",
    "        \"floor\": 1,\n",
    "        \"keywords\": [\"robots\", \"workshop\", \"lab\"],\n",
    "    },\n",
    "    {\n",
    "        \"name\": \"Vending Machine\",\n",
    "        \"x\": 75,\n",
    "        \"y\": 50,\n",
    "        \"floor\": 1,\n",
    "        \"keywords\": [\"food and drink\", \"snacks\"],\n",
    "    },\n",
    "    {\n",
    "        \"name\": \"Room 2241\",\n",
    "        \"x\": 100,\n",
    "        \"y\": 100,\n",
    "        \"floor\": 2,\n",
    "        \"keywords\": [\"office\", \"Zach\"],\n",
    "    }\n",
    "]"
   ]
  },
  {
   "cell_type": "code",
   "execution_count": 8,
   "metadata": {},
   "outputs": [],
   "source": [
    "actions_list_v1 = [\n",
    "    {\n",
    "        \"name\": \"navigate\",\n",
    "        \"input\": [\"waypoint\"],\n",
    "    },\n",
    "    {\n",
    "        \"name\": \"wait\",\n",
    "        \"input\": [\"seconds\"],\n",
    "    },\n",
    "    {\n",
    "        \"name\": \"speak\",\n",
    "        \"input\": [\"output\"],\n",
    "    },\n",
    "    {\n",
    "        \"name\": \"add_waypoint\",\n",
    "        \"input\": [\"waypoint\"],\n",
    "    },\n",
    "]"
   ]
  },
  {
   "cell_type": "code",
   "execution_count": 9,
   "metadata": {},
   "outputs": [],
   "source": [
    "e7_xrif_with_actions_1 = \"\"\"\n",
    "You control a robot that can navigate through a building based on a json instruction format, you understand several waypoints that have been given to you before (you can use RAG to retrieve what room numbers or waypoints correspond to which people or semantics).\n",
    "\n",
    "Here are all the waypoints you have access to:\n",
    "{{ waypoints_list }}\n",
    "\n",
    "Here are all the Functions you have access to:\n",
    "{{ actions_list }}\n",
    "\n",
    "Example Prompt: Can you pick something up from Zach's office and drop it off at the RoboHub?\n",
    "\n",
    "Example Answer:\n",
    "{\n",
    "    \"actions\": [\n",
    "\n",
    "    ]\n",
    "}\n",
    "\n",
    "Example Prompt: Can you ask Zach for the keys and drop it off at the RoboHub? Wait for 10 seconds after Zach gives you the coffee.\n",
    "\n",
    "Example Answer:\n",
    "{\n",
    "    \"actions\": [\n",
    "\n",
    "    ]\n",
    "}\n",
    "\n",
    "Prompt: {{ query }}\n",
    "\"\"\""
   ]
  },
  {
   "cell_type": "code",
   "execution_count": null,
   "metadata": {},
   "outputs": [],
   "source": []
  },
  {
   "cell_type": "code",
   "execution_count": null,
   "metadata": {},
   "outputs": [],
   "source": []
  },
  {
   "cell_type": "code",
   "execution_count": null,
   "metadata": {},
   "outputs": [],
   "source": []
  },
  {
   "cell_type": "code",
   "execution_count": null,
   "metadata": {},
   "outputs": [],
   "source": []
  },
  {
   "cell_type": "code",
   "execution_count": null,
   "metadata": {},
   "outputs": [],
   "source": []
  },
  {
   "cell_type": "code",
   "execution_count": null,
   "metadata": {},
   "outputs": [],
   "source": []
  }
 ],
 "metadata": {
  "kernelspec": {
   "display_name": ".venv",
   "language": "python",
   "name": "python3"
  },
  "language_info": {
   "codemirror_mode": {
    "name": "ipython",
    "version": 3
   },
   "file_extension": ".py",
   "mimetype": "text/x-python",
   "name": "python",
   "nbconvert_exporter": "python",
   "pygments_lexer": "ipython3",
   "version": "3.12.8"
  }
 },
 "nbformat": 4,
 "nbformat_minor": 2
}
