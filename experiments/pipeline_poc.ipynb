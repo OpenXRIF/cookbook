{
 "cells": [
  {
   "cell_type": "markdown",
   "metadata": {},
   "source": [
    "# Training Pipeline Proof-of-Concept"
   ]
  },
  {
   "cell_type": "code",
   "execution_count": null,
   "metadata": {},
   "outputs": [],
   "source": [
    "import os\n",
    "import argparse\n",
    "from typing import Dict, Any\n",
    "import dotenv\n",
    "import numpy as np\n",
    "import pandas as pd\n",
    "import matplotlib.pyplot as plt\n",
    "import seaborn as sns\n",
    "from tqdm import tqdm\n",
    "import torch\n",
    "import torch.nn as nn\n",
    "from torch.utils.data import Dataset, DataLoader\n",
    "import torch.onnx\n",
    "from torch.quantization import quantize_dynamic\n",
    "from transformers import AutoModelForCausalLM, AutoTokenizer, get_linear_schedule_with_warmup\n",
    "import ray\n",
    "from ray import train\n",
    "import wandb\n",
    "import onnx\n",
    "import horovod.torch as hvd\n",
    "\n",
    "sns.set_theme(style=\"whitegrid\")\n",
    "dotenv.load_dotenv()"
   ]
  },
  {
   "cell_type": "code",
   "execution_count": 6,
   "metadata": {
    "tags": [
     "parameters"
    ]
   },
   "outputs": [],
   "source": [
    "# NOTE: This cell is tagger `parameters`.\n",
    "model_name = \"gpt2\"  # @param\n",
    "data_path = \"data/train.txt\"  # @param\n",
    "output_dir = \"tmp\"  # @param\n",
    "wandb_project = \"llm-finetuning\"  # @param\n",
    "wandb_run_name = \"test-run\"  # @param\n",
    "distributed = False  # @param\n",
    "batch_size = 8  # @param\n",
    "num_workers = 4  # @param\n",
    "max_length = 512  # @param\n",
    "learning_rate = 5e-5  # @param\n",
    "weight_decay = 0.01  # @param\n",
    "num_epochs = 3  # @param\n",
    "warmup_steps = 500  # @param"
   ]
  },
  {
   "cell_type": "code",
   "execution_count": null,
   "metadata": {},
   "outputs": [
    {
     "name": "stdout",
     "output_type": "stream",
     "text": [
      "Device: mps\n"
     ]
    }
   ],
   "source": [
    "if torch.cuda.is_available():\n",
    "    device = torch.device(\"cuda\")\n",
    "elif torch.backends.mps.is_available():\n",
    "    device = torch.device(\"mps\")\n",
    "else:\n",
    "    device = torch.device(\"cpu\")\n",
    "\n",
    "print(f\"Device: {device}\")"
   ]
  },
  {
   "cell_type": "code",
   "execution_count": 7,
   "metadata": {},
   "outputs": [],
   "source": [
    "os.makedirs(output_dir, exist_ok=True)"
   ]
  },
  {
   "cell_type": "code",
   "execution_count": 11,
   "metadata": {},
   "outputs": [],
   "source": [
    "if distributed:\n",
    "    ray.init()\n",
    "    hvd.init()\n",
    "    torch.cuda.set_device(hvd.local_rank())"
   ]
  },
  {
   "cell_type": "code",
   "execution_count": 8,
   "metadata": {},
   "outputs": [],
   "source": [
    "class TextDataset(Dataset):\n",
    "    def __init__(self, data_path: str, tokenizer, max_length: int = 512):\n",
    "        self.tokenizer = tokenizer\n",
    "        self.max_length = max_length\n",
    "        \n",
    "        with open(data_path, 'r') as f:\n",
    "            self.texts = f.readlines()\n",
    "    \n",
    "    def __len__(self):\n",
    "        return len(self.texts)\n",
    "    \n",
    "    def __getitem__(self, idx):\n",
    "        text = self.texts[idx]\n",
    "        encodings = self.tokenizer(\n",
    "            text,\n",
    "            truncation=True,\n",
    "            max_length=self.max_length,\n",
    "            padding='max_length',\n",
    "            return_tensors='pt'\n",
    "        )\n",
    "        \n",
    "        return {\n",
    "            'input_ids': encodings['input_ids'].squeeze(),\n",
    "            'attention_mask': encodings['attention_mask'].squeeze()\n",
    "        }"
   ]
  },
  {
   "cell_type": "code",
   "execution_count": null,
   "metadata": {},
   "outputs": [],
   "source": [
    "if not distributed or hvd.rank() == 0:\n",
    "    api_key = os.getenv(\"WANDB_API_KEY\")\n",
    "\n",
    "    if api_key:\n",
    "        wandb.login()\n",
    "        wandb.init(\n",
    "            project=wandb_project,\n",
    "            name=wandb_run_name,\n",
    "            config={\n",
    "                'model_name': model_name,\n",
    "                'batch_size': batch_size,\n",
    "                'learning_rate': learning_rate,\n",
    "                'num_epochs': num_epochs,\n",
    "                'max_length': max_length\n",
    "            }\n",
    "        )\n",
    "        print(\"Weights and Biases initialized successfully.\")\n",
    "    else:\n",
    "        print(\"Error: WANDB_API_KEY environment variable is not set. Please define it before proceeding.\")"
   ]
  },
  {
   "cell_type": "code",
   "execution_count": null,
   "metadata": {},
   "outputs": [],
   "source": [
    "print(f\"Using device: {device}\")\n",
    "\n",
    "tokenizer = AutoTokenizer.from_pretrained(model_name)\n",
    "model = AutoModelForCausalLM.from_pretrained(model_name)\n",
    "model.to(device)\n",
    "\n",
    "dataset = TextDataset(data_path, tokenizer, max_length)\n",
    "\n",
    "if distributed:\n",
    "    train_sampler = torch.utils.data.distributed.DistributedSampler(\n",
    "        dataset, num_replicas=hvd.size(), rank=hvd.rank()\n",
    "    )\n",
    "else:\n",
    "    train_sampler = None\n",
    "\n",
    "train_loader = DataLoader(\n",
    "    dataset,\n",
    "    batch_size=batch_size,\n",
    "    shuffle=(train_sampler is None),\n",
    "    sampler=train_sampler,\n",
    "    num_workers=num_workers\n",
    ")"
   ]
  },
  {
   "cell_type": "code",
   "execution_count": null,
   "metadata": {},
   "outputs": [],
   "source": [
    "optimizer = torch.optim.AdamW(\n",
    "    model.parameters(),\n",
    "    lr=learning_rate,\n",
    "    weight_decay=weight_decay\n",
    ")\n",
    "\n",
    "if distributed:\n",
    "    optimizer = hvd.DistributedOptimizer(\n",
    "        optimizer,\n",
    "        named_parameters=model.named_parameters()\n",
    "    )\n",
    "    hvd.broadcast_parameters(model.state_dict(), root_rank=0)\n",
    "    hvd.broadcast_optimizer_state(optimizer, root_rank=0)\n",
    "\n",
    "num_training_steps = len(train_loader) * num_epochs\n",
    "scheduler = get_linear_schedule_with_warmup(\n",
    "    optimizer,\n",
    "    num_warmup_steps=warmup_steps,\n",
    "    num_training_steps=num_training_steps\n",
    ")"
   ]
  },
  {
   "cell_type": "code",
   "execution_count": null,
   "metadata": {},
   "outputs": [],
   "source": [
    "best_loss = float('inf')\n",
    "\n",
    "for epoch in range(num_epochs):\n",
    "    model.train()\n",
    "    total_loss = 0\n",
    "    \n",
    "    with tqdm(train_loader, desc=f\"Epoch {epoch + 1}/{num_epochs}\") as pbar:\n",
    "        for batch in pbar:\n",
    "            input_ids = batch['input_ids'].to(device)\n",
    "            attention_mask = batch['attention_mask'].to(device)\n",
    "            \n",
    "            outputs = model(\n",
    "                input_ids=input_ids,\n",
    "                attention_mask=attention_mask,\n",
    "                labels=input_ids\n",
    "            )\n",
    "            \n",
    "            loss = outputs.loss\n",
    "            total_loss += loss.item()\n",
    "            \n",
    "            optimizer.zero_grad()\n",
    "            loss.backward()\n",
    "            optimizer.step()\n",
    "            scheduler.step()\n",
    "            \n",
    "            pbar.set_postfix({'loss': loss.item()})\n",
    "            \n",
    "            if not distributed or hvd.rank() == 0:\n",
    "                wandb.log({\n",
    "                    'loss': loss.item(),\n",
    "                    'learning_rate': scheduler.get_last_lr()[0]\n",
    "                })\n",
    "    \n",
    "    avg_loss = total_loss / len(train_loader)\n",
    "    \n",
    "    # NOTE: Save checkpoint if best loss\n",
    "    if (not distributed or hvd.rank() == 0) and avg_loss < best_loss:\n",
    "        best_loss = avg_loss\n",
    "        checkpoint_path = os.path.join(output_dir, f'checkpoint_epoch_{epoch}.pt')\n",
    "        torch.save({\n",
    "            'epoch': epoch,\n",
    "            'model_state_dict': model.state_dict(),\n",
    "            'optimizer_state_dict': optimizer.state_dict(),\n",
    "            'loss': best_loss,\n",
    "        }, checkpoint_path)\n",
    "        print(f\"Saved checkpoint with loss: {best_loss:.4f}\")"
   ]
  },
  {
   "cell_type": "code",
   "execution_count": null,
   "metadata": {},
   "outputs": [],
   "source": [
    "if not distributed or hvd.rank() == 0:\n",
    "    model.eval()\n",
    "    dummy_input = torch.zeros(\n",
    "        (1, max_length),\n",
    "        dtype=torch.long,\n",
    "        device=device\n",
    "    )\n",
    "    \n",
    "    onnx_path = os.path.join(output_dir, 'model.onnx')\n",
    "    torch.onnx.export(\n",
    "        model,\n",
    "        dummy_input,\n",
    "        onnx_path,\n",
    "        input_names=['input'],\n",
    "        output_names=['output'],\n",
    "        dynamic_axes={\n",
    "            'input': {0: 'batch_size'},\n",
    "            'output': {0: 'batch_size'}\n",
    "        },\n",
    "        opset_version=11\n",
    "    )\n",
    "    print(f\"Exported ONNX model to: {onnx_path}\")\n",
    "    \n",
    "    # NOTE: Verify onnx\n",
    "    onnx_model = onnx.load(onnx_path)\n",
    "    onnx.checker.check_model(onnx_model)"
   ]
  },
  {
   "cell_type": "code",
   "execution_count": null,
   "metadata": {},
   "outputs": [],
   "source": [
    "# NOTE: Quantizatiion (Work-in-progress)\n",
    "if not distributed or hvd.rank() == 0:\n",
    "    quantized_model = quantize_dynamic(\n",
    "        model,\n",
    "        {nn.Linear},\n",
    "        dtype=torch.qint8\n",
    "    )\n",
    "    \n",
    "    quantized_path = os.path.join(output_dir, 'quantized_model.pt')\n",
    "    torch.save(\n",
    "        quantized_model.state_dict(),\n",
    "        quantized_path\n",
    "    )\n",
    "    print(f\"Saved quantized model to: {quantized_path}\")"
   ]
  },
  {
   "cell_type": "code",
   "execution_count": null,
   "metadata": {},
   "outputs": [],
   "source": [
    "# NOTE: Cleanup\n",
    "if distributed:\n",
    "    ray.shutdown()\n",
    "\n",
    "if not distributed or hvd.rank() == 0:\n",
    "    wandb.finish()"
   ]
  }
 ],
 "metadata": {
  "kernelspec": {
   "display_name": ".venv",
   "language": "python",
   "name": "python3"
  },
  "language_info": {
   "codemirror_mode": {
    "name": "ipython",
    "version": 3
   },
   "file_extension": ".py",
   "mimetype": "text/x-python",
   "name": "python",
   "nbconvert_exporter": "python",
   "pygments_lexer": "ipython3",
   "version": "3.12.8"
  }
 },
 "nbformat": 4,
 "nbformat_minor": 2
}
